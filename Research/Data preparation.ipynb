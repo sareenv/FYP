{
 "cells": [
  {
   "cell_type": "markdown",
   "metadata": {},
   "source": [
    "# Skin Cancer Detection Image Classifier Data Extraction."
   ]
  },
  {
   "cell_type": "markdown",
   "metadata": {},
   "source": [
    "There are three main types of diseases that we are looking to classify in this senario of three serious skin disease.\n",
    "1. Mel disease.\n",
    "2. Vasc (Skin Cancer)\n",
    "3. NV nevi\n",
    "4. Bkl"
   ]
  },
  {
   "cell_type": "code",
   "execution_count": 1,
   "metadata": {},
   "outputs": [],
   "source": [
    "# Load the data into this file.\n",
    "import pandas as pd\n",
    "import os\n",
    "import numpy as np\n",
    "import pickle\n",
    "import seaborn as sns\n",
    "import matplotlib.pyplot as plt\n",
    "from PIL import Image\n",
    "from sklearn.model_selection import train_test_split\n",
    "import shutil"
   ]
  },
  {
   "cell_type": "code",
   "execution_count": 2,
   "metadata": {},
   "outputs": [
    {
     "data": {
      "text/html": [
       "<div>\n",
       "<style scoped>\n",
       "    .dataframe tbody tr th:only-of-type {\n",
       "        vertical-align: middle;\n",
       "    }\n",
       "\n",
       "    .dataframe tbody tr th {\n",
       "        vertical-align: top;\n",
       "    }\n",
       "\n",
       "    .dataframe thead th {\n",
       "        text-align: right;\n",
       "    }\n",
       "</style>\n",
       "<table border=\"1\" class=\"dataframe\">\n",
       "  <thead>\n",
       "    <tr style=\"text-align: right;\">\n",
       "      <th></th>\n",
       "      <th>lesion_id</th>\n",
       "      <th>image_id</th>\n",
       "      <th>dx</th>\n",
       "      <th>dx_type</th>\n",
       "      <th>age</th>\n",
       "      <th>sex</th>\n",
       "      <th>localization</th>\n",
       "    </tr>\n",
       "  </thead>\n",
       "  <tbody>\n",
       "    <tr>\n",
       "      <th>0</th>\n",
       "      <td>HAM_0000118</td>\n",
       "      <td>ISIC_0027419</td>\n",
       "      <td>bkl</td>\n",
       "      <td>histo</td>\n",
       "      <td>80.0</td>\n",
       "      <td>male</td>\n",
       "      <td>scalp</td>\n",
       "    </tr>\n",
       "    <tr>\n",
       "      <th>1</th>\n",
       "      <td>HAM_0000118</td>\n",
       "      <td>ISIC_0025030</td>\n",
       "      <td>bkl</td>\n",
       "      <td>histo</td>\n",
       "      <td>80.0</td>\n",
       "      <td>male</td>\n",
       "      <td>scalp</td>\n",
       "    </tr>\n",
       "    <tr>\n",
       "      <th>2</th>\n",
       "      <td>HAM_0002730</td>\n",
       "      <td>ISIC_0026769</td>\n",
       "      <td>bkl</td>\n",
       "      <td>histo</td>\n",
       "      <td>80.0</td>\n",
       "      <td>male</td>\n",
       "      <td>scalp</td>\n",
       "    </tr>\n",
       "    <tr>\n",
       "      <th>3</th>\n",
       "      <td>HAM_0002730</td>\n",
       "      <td>ISIC_0025661</td>\n",
       "      <td>bkl</td>\n",
       "      <td>histo</td>\n",
       "      <td>80.0</td>\n",
       "      <td>male</td>\n",
       "      <td>scalp</td>\n",
       "    </tr>\n",
       "    <tr>\n",
       "      <th>4</th>\n",
       "      <td>HAM_0001466</td>\n",
       "      <td>ISIC_0031633</td>\n",
       "      <td>bkl</td>\n",
       "      <td>histo</td>\n",
       "      <td>75.0</td>\n",
       "      <td>male</td>\n",
       "      <td>ear</td>\n",
       "    </tr>\n",
       "  </tbody>\n",
       "</table>\n",
       "</div>"
      ],
      "text/plain": [
       "     lesion_id      image_id   dx dx_type   age   sex localization\n",
       "0  HAM_0000118  ISIC_0027419  bkl   histo  80.0  male        scalp\n",
       "1  HAM_0000118  ISIC_0025030  bkl   histo  80.0  male        scalp\n",
       "2  HAM_0002730  ISIC_0026769  bkl   histo  80.0  male        scalp\n",
       "3  HAM_0002730  ISIC_0025661  bkl   histo  80.0  male        scalp\n",
       "4  HAM_0001466  ISIC_0031633  bkl   histo  75.0  male          ear"
      ]
     },
     "execution_count": 2,
     "metadata": {},
     "output_type": "execute_result"
    }
   ],
   "source": [
    "df = pd.read_csv('HAM10000_metadata.csv')\n",
    "df.head()"
   ]
  },
  {
   "cell_type": "code",
   "execution_count": 15,
   "metadata": {},
   "outputs": [
    {
     "data": {
      "text/plain": [
       "count     10015\n",
       "unique        7\n",
       "top          nv\n",
       "freq       6705\n",
       "Name: dx, dtype: object"
      ]
     },
     "execution_count": 15,
     "metadata": {},
     "output_type": "execute_result"
    }
   ],
   "source": [
    "df['dx'].describe()"
   ]
  },
  {
   "cell_type": "code",
   "execution_count": 3,
   "metadata": {},
   "outputs": [
    {
     "data": {
      "text/plain": [
       "[]"
      ]
     },
     "execution_count": 3,
     "metadata": {},
     "output_type": "execute_result"
    },
    {
     "data": {
      "image/png": "[encoded data removed]",
      "text/plain": [
       "<Figure size 432x288 with 1 Axes>"
      ]
     },
     "metadata": {
      "needs_background": "light"
     },
     "output_type": "display_data"
    }
   ],
   "source": [
    "dx = df['dx']\n",
    "vasc_count = len(dx[dx == 'vasc'])\n",
    "mel_count = len(dx[dx == 'mel'])\n",
    "bkl_count = len(dx[dx == 'bkl'])\n",
    "nv_count = len(dx[dx == 'nv'])\n",
    "categories = ['vasc', 'mel', 'bkl', 'nv']\n",
    "counts = [vasc_count, mel_count, bkl_count, nv_count]\n",
    "plt.bar(categories[0], counts[0], label = 'vascular lesions')\n",
    "plt.bar(categories[1], counts[1], label = 'Melanoma lesions')\n",
    "plt.bar(categories[2], counts[2], label = 'Benign keratosis lesions')\n",
    "plt.bar(categories[3], counts[3], label = 'Melanocytic nevi lesions ')\n",
    "plt.title('Pigmented Skin lesions sample count')\n",
    "plt.ylabel('Sample Count')\n",
    "plt.xlabel('Pigmented skin lesions')\n",
    "plt.legend()\n",
    "plt.plot()"
   ]
  },
  {
   "cell_type": "markdown",
   "metadata": {},
   "source": [
    "## Data Removal "
   ]
  },
  {
   "cell_type": "code",
   "execution_count": 7,
   "metadata": {
    "scrolled": true
   },
   "outputs": [
    {
     "data": {
      "text/html": [
       "<div>\n",
       "<style scoped>\n",
       "    .dataframe tbody tr th:only-of-type {\n",
       "        vertical-align: middle;\n",
       "    }\n",
       "\n",
       "    .dataframe tbody tr th {\n",
       "        vertical-align: top;\n",
       "    }\n",
       "\n",
       "    .dataframe thead th {\n",
       "        text-align: right;\n",
       "    }\n",
       "</style>\n",
       "<table border=\"1\" class=\"dataframe\">\n",
       "  <thead>\n",
       "    <tr style=\"text-align: right;\">\n",
       "      <th></th>\n",
       "      <th>lesion_id</th>\n",
       "      <th>image_id</th>\n",
       "      <th>dx</th>\n",
       "      <th>dx_type</th>\n",
       "    </tr>\n",
       "  </thead>\n",
       "  <tbody>\n",
       "    <tr>\n",
       "      <th>0</th>\n",
       "      <td>HAM_0000118</td>\n",
       "      <td>ISIC_0027419</td>\n",
       "      <td>bkl</td>\n",
       "      <td>histo</td>\n",
       "    </tr>\n",
       "    <tr>\n",
       "      <th>1</th>\n",
       "      <td>HAM_0000118</td>\n",
       "      <td>ISIC_0025030</td>\n",
       "      <td>bkl</td>\n",
       "      <td>histo</td>\n",
       "    </tr>\n",
       "    <tr>\n",
       "      <th>2</th>\n",
       "      <td>HAM_0002730</td>\n",
       "      <td>ISIC_0026769</td>\n",
       "      <td>bkl</td>\n",
       "      <td>histo</td>\n",
       "    </tr>\n",
       "    <tr>\n",
       "      <th>3</th>\n",
       "      <td>HAM_0002730</td>\n",
       "      <td>ISIC_0025661</td>\n",
       "      <td>bkl</td>\n",
       "      <td>histo</td>\n",
       "    </tr>\n",
       "    <tr>\n",
       "      <th>4</th>\n",
       "      <td>HAM_0001466</td>\n",
       "      <td>ISIC_0031633</td>\n",
       "      <td>bkl</td>\n",
       "      <td>histo</td>\n",
       "    </tr>\n",
       "  </tbody>\n",
       "</table>\n",
       "</div>"
      ],
      "text/plain": [
       "     lesion_id      image_id   dx dx_type\n",
       "0  HAM_0000118  ISIC_0027419  bkl   histo\n",
       "1  HAM_0000118  ISIC_0025030  bkl   histo\n",
       "2  HAM_0002730  ISIC_0026769  bkl   histo\n",
       "3  HAM_0002730  ISIC_0025661  bkl   histo\n",
       "4  HAM_0001466  ISIC_0031633  bkl   histo"
      ]
     },
     "execution_count": 7,
     "metadata": {},
     "output_type": "execute_result"
    }
   ],
   "source": [
    "df_modified = df.drop(columns=['sex', 'age', 'localization'])\n",
    "bkl_results = df_modified['dx']\n",
    "bkl_df = df_modified[bkl_results == 'bkl']\n",
    "vasc_df = df_modified[bkl_results == 'vasc']\n",
    "nv_df = df_modified[bkl_results == 'nv']\n",
    "mel_df = df_modified[bkl_results == 'mel']\n",
    "data_df = pd.concat([bkl_df, nv_df, mel_df, vasc_df])\n",
    "data_df.head()"
   ]
  },
  {
   "cell_type": "markdown",
   "metadata": {},
   "source": [
    " # Data Prepration And Saving into the pickle file in serialised format\n"
   ]
  },
  {
   "cell_type": "code",
   "execution_count": 9,
   "metadata": {},
   "outputs": [
    {
     "name": "stdout",
     "output_type": "stream",
     "text": [
      "X_train, y_train shapes are (6522,)(6522,)\n",
      "X_test, y_test shapes are (1812,)(1812,)\n",
      "X_validation, y_validation shapes are (725,)(725,)\n"
     ]
    }
   ],
   "source": [
    "X = data_df['image_id']\n",
    "y = data_df['dx']\n",
    "X_train_cat, X_test, y_train_cat, y_test = train_test_split(X, y, test_size = 0.2, random_state=23, shuffle=True) # split the data into\n",
    "X_train, X_validation, y_train, y_validation =  train_test_split(X_train_cat, y_train_cat, test_size = 0.1)\n",
    "print(\"X_train, y_train shapes are {}{}\".format(X_train.shape, y_train.shape))\n",
    "print(\"X_test, y_test shapes are {}{}\".format(X_test.shape, y_test.shape))\n",
    "print(\"X_validation, y_validation shapes are {}{}\".format(X_validation.shape, y_validation.shape))"
   ]
  },
  {
   "cell_type": "code",
   "execution_count": 10,
   "metadata": {},
   "outputs": [
    {
     "data": {
      "text/html": [
       "<div>\n",
       "<style scoped>\n",
       "    .dataframe tbody tr th:only-of-type {\n",
       "        vertical-align: middle;\n",
       "    }\n",
       "\n",
       "    .dataframe tbody tr th {\n",
       "        vertical-align: top;\n",
       "    }\n",
       "\n",
       "    .dataframe thead th {\n",
       "        text-align: right;\n",
       "    }\n",
       "</style>\n",
       "<table border=\"1\" class=\"dataframe\">\n",
       "  <thead>\n",
       "    <tr style=\"text-align: right;\">\n",
       "      <th></th>\n",
       "      <th>dx</th>\n",
       "    </tr>\n",
       "  </thead>\n",
       "  <tbody>\n",
       "    <tr>\n",
       "      <th>447</th>\n",
       "      <td>bkl</td>\n",
       "    </tr>\n",
       "    <tr>\n",
       "      <th>7841</th>\n",
       "      <td>nv</td>\n",
       "    </tr>\n",
       "    <tr>\n",
       "      <th>5655</th>\n",
       "      <td>nv</td>\n",
       "    </tr>\n",
       "    <tr>\n",
       "      <th>1437</th>\n",
       "      <td>mel</td>\n",
       "    </tr>\n",
       "    <tr>\n",
       "      <th>5992</th>\n",
       "      <td>nv</td>\n",
       "    </tr>\n",
       "  </tbody>\n",
       "</table>\n",
       "</div>"
      ],
      "text/plain": [
       "       dx\n",
       "447   bkl\n",
       "7841   nv\n",
       "5655   nv\n",
       "1437  mel\n",
       "5992   nv"
      ]
     },
     "execution_count": 10,
     "metadata": {},
     "output_type": "execute_result"
    }
   ],
   "source": [
    "X_train_images = X_train.to_frame()\n",
    "X_test_images = X_test.to_frame()\n",
    "X_validation_images = X_validation.to_frame()\n",
    "y_train_labels = y_train.to_frame()\n",
    "y_test_labels = y_test.to_frame()\n",
    "y_validation_labels = y_validation.to_frame()\n",
    "y_validation_labels.head()"
   ]
  },
  {
   "cell_type": "code",
   "execution_count": 6,
   "metadata": {},
   "outputs": [],
   "source": [
    "os.chdir(\"Images\")"
   ]
  },
  {
   "cell_type": "code",
   "execution_count": 8,
   "metadata": {},
   "outputs": [
    {
     "name": "stdout",
     "output_type": "stream",
     "text": [
      "C:\\Users\\Data\\Desktop\\Deep Learning\\Images\n",
      "Done performing task\n"
     ]
    }
   ],
   "source": [
    "# save the images to new Folder\n",
    "\n",
    "path = os.getcwd()\n",
    "print(path)\n",
    "\n",
    "for imageName in X_test:\n",
    "    imageName = imageName + \".jpg\"\n",
    "    src = imageName\n",
    "    des = \"../test_data/\"\n",
    "    r = shutil.copy(src, des)\n",
    "\n",
    "for imageName in X_train:\n",
    "    imageName = imageName + \".jpg\"\n",
    "    src = imageName\n",
    "    des = \"../train_data/\"\n",
    "    r = shutil.copy(src, des)\n",
    "\n",
    "for imageName in X_validation:\n",
    "    imageName = imageName + \".jpg\"\n",
    "    src = imageName\n",
    "    des = \"../validation_data/\"\n",
    "    r = shutil.copy(src, des)\n",
    "\n",
    "print(\"Done performing task\")"
   ]
  },
  {
   "cell_type": "code",
   "execution_count": 9,
   "metadata": {},
   "outputs": [
    {
     "data": {
      "text/plain": [
       "'C:\\\\Users\\\\Data\\\\Desktop\\\\Deep Learning'"
      ]
     },
     "execution_count": 9,
     "metadata": {},
     "output_type": "execute_result"
    }
   ],
   "source": [
    "os.chdir(\"../\")\n",
    "os.getcwd()"
   ]
  },
  {
   "cell_type": "code",
   "execution_count": 10,
   "metadata": {},
   "outputs": [
    {
     "data": {
      "text/plain": [
       "(1812, 1)"
      ]
     },
     "execution_count": 10,
     "metadata": {},
     "output_type": "execute_result"
    }
   ],
   "source": [
    "X_test_images.shape"
   ]
  },
  {
   "cell_type": "code",
   "execution_count": 11,
   "metadata": {},
   "outputs": [],
   "source": [
    "os.chdir(\"test_data\")"
   ]
  },
  {
   "cell_type": "code",
   "execution_count": 12,
   "metadata": {},
   "outputs": [
    {
     "name": "stdout",
     "output_type": "stream",
     "text": [
      "C:\\Users\\Data\\Desktop\\Deep Learning\\test_data\n"
     ]
    },
    {
     "data": {
      "text/plain": [
       "<matplotlib.image.AxesImage at 0x24b6968d888>"
      ]
     },
     "execution_count": 12,
     "metadata": {},
     "output_type": "execute_result"
    },
    {
     "data": {
      "image/png": "[encoded data removed]",
      "text/plain": [
       "<Figure size 432x288 with 1 Axes>"
      ]
     },
     "metadata": {
      "needs_background": "light"
     },
     "output_type": "display_data"
    }
   ],
   "source": [
    "# Now, converting this data into the numpy array by reading it from the file.\n",
    "print(os.getcwd())\n",
    "arr_data = []\n",
    "for imageName in X_test_images[\"image_id\"]:\n",
    "    path = imageName + \".jpg\"\n",
    "    img = Image.open(path)\n",
    "    height, width = img.size\n",
    "    img = img.resize((32, 32)) # This will transform the image into 32 * 32 pixel\n",
    "    img_data = np.asarray(img)\n",
    "    arr_data.append(img_data)\n",
    "\n",
    "plt.imshow(arr_data[1])\n"
   ]
  },
  {
   "cell_type": "code",
   "execution_count": 13,
   "metadata": {},
   "outputs": [
    {
     "data": {
      "text/plain": [
       "'C:\\\\Users\\\\Data\\\\Desktop\\\\Deep Learning'"
      ]
     },
     "execution_count": 13,
     "metadata": {},
     "output_type": "execute_result"
    }
   ],
   "source": [
    "os.chdir(\"../\")\n",
    "path = os.getcwd()\n",
    "path"
   ]
  },
  {
   "cell_type": "code",
   "execution_count": 14,
   "metadata": {},
   "outputs": [
    {
     "data": {
      "text/plain": [
       "array([3, 1, 3, ..., 4, 3, 3], dtype=uint8)"
      ]
     },
     "execution_count": 14,
     "metadata": {},
     "output_type": "execute_result"
    }
   ],
   "source": [
    "t = np.array(arr_data)\n",
    "t.shape\n",
    "test_y_labels = []\n",
    "y_labels_test = y_test_labels[\"dx\"].values\n",
    "for label in y_labels_test:\n",
    "    if(label == 'mel'):\n",
    "        test_y_labels.append(1)\n",
    "    elif(label == 'vasc'):\n",
    "        test_y_labels.append(2)\n",
    "    elif(label == 'bkl'):\n",
    "        test_y_labels.append(4)\n",
    "    else:\n",
    "        test_y_labels.append(3)\n",
    "y_final_test = np.array(test_y_labels, dtype=\"uint8\")\n",
    "y_final_test"
   ]
  },
  {
   "cell_type": "code",
   "execution_count": 15,
   "metadata": {},
   "outputs": [
    {
     "name": "stdout",
     "output_type": "stream",
     "text": [
      "Done writting testing data\n"
     ]
    }
   ],
   "source": [
    "testingData = {\"imagesData\": t, \"imageLabels\": y_final_test}\n",
    "\n",
    "with open(\"test32.pkl\", \"wb\") as file:\n",
    "    pickle.dump(testingData, file)\n",
    "print(\"Done writting testing data\")"
   ]
  },
  {
   "cell_type": "code",
   "execution_count": 16,
   "metadata": {},
   "outputs": [
    {
     "data": {
      "text/plain": [
       "1812"
      ]
     },
     "execution_count": 16,
     "metadata": {},
     "output_type": "execute_result"
    }
   ],
   "source": [
    "d = None\n",
    "with open(\"test32.pkl\", \"rb\") as file:\n",
    "    d = pickle.load(file)\n",
    "len(d['imagesData'])"
   ]
  },
  {
   "cell_type": "code",
   "execution_count": 17,
   "metadata": {},
   "outputs": [
    {
     "name": "stdout",
     "output_type": "stream",
     "text": [
      "C:\\Users\\Data\\Desktop\\Deep Learning\\train_data\n"
     ]
    },
    {
     "data": {
      "text/plain": [
       "<matplotlib.image.AxesImage at 0x24b69d24288>"
      ]
     },
     "execution_count": 17,
     "metadata": {},
     "output_type": "execute_result"
    },
    {
     "data": {
      "image/png": "[encoded data removed]",
      "text/plain": [
       "<Figure size 432x288 with 1 Axes>"
      ]
     },
     "metadata": {
      "needs_background": "light"
     },
     "output_type": "display_data"
    }
   ],
   "source": [
    "os.chdir(\"train_data\")\n",
    "path = os.getcwd()\n",
    "print(path)\n",
    "\n",
    "arr_data_x_train = []\n",
    "for imageName in X_train_images[\"image_id\"]:\n",
    "    path = imageName + \".jpg\"\n",
    "    img = Image.open(path)\n",
    "    height, width = img.size\n",
    "    img = img.resize((32, 32)) # This will transform the image into 224 * 224 pixel\n",
    "    img_data = np.asarray(img)\n",
    "    arr_data_x_train.append(img_data)\n",
    "    \n",
    "# arr_data_x_train\n",
    "plt.imshow(arr_data_x_train[45])"
   ]
  },
  {
   "cell_type": "code",
   "execution_count": 18,
   "metadata": {},
   "outputs": [
    {
     "data": {
      "text/plain": [
       "(6522, 32, 32, 3)"
      ]
     },
     "execution_count": 18,
     "metadata": {},
     "output_type": "execute_result"
    }
   ],
   "source": [
    "p = np.array(arr_data_x_train)\n",
    "p.shape"
   ]
  },
  {
   "cell_type": "code",
   "execution_count": 19,
   "metadata": {},
   "outputs": [
    {
     "data": {
      "text/plain": [
       "array([1, 1, 3, ..., 3, 3, 3], dtype=uint8)"
      ]
     },
     "execution_count": 19,
     "metadata": {},
     "output_type": "execute_result"
    }
   ],
   "source": [
    "train_y_labels = []\n",
    "y_train_test = y_train_labels[\"dx\"].values\n",
    "for label in y_train_test:\n",
    "    if(label == 'mel'):\n",
    "        train_y_labels.append(1)\n",
    "    elif(label == 'vasc'):\n",
    "        train_y_labels.append(2)\n",
    "    elif(label == 'bkl'):\n",
    "        train_y_labels.append(4)\n",
    "    else:\n",
    "        train_y_labels.append(3)\n",
    "        \n",
    "y_train_final = np.array(train_y_labels, dtype=\"uint8\")\n",
    "y_train_final"
   ]
  },
  {
   "cell_type": "code",
   "execution_count": 20,
   "metadata": {},
   "outputs": [
    {
     "name": "stdout",
     "output_type": "stream",
     "text": [
      "Done writting the file contents.\n"
     ]
    }
   ],
   "source": [
    "os.chdir(\"../\")\n",
    "os.getcwd()\n",
    "\n",
    "trainingData = {\"imagesData\": p, \"labels\": y_train_final}\n",
    "with open(\"train32.pkl\", \"wb\") as file:\n",
    "    pickle.dump(trainingData, file)\n",
    "print(\"Done writting the file contents.\")"
   ]
  },
  {
   "cell_type": "code",
   "execution_count": 21,
   "metadata": {},
   "outputs": [
    {
     "data": {
      "text/plain": [
       "6522"
      ]
     },
     "execution_count": 21,
     "metadata": {},
     "output_type": "execute_result"
    }
   ],
   "source": [
    "trdata = None\n",
    "with open(\"train32.pkl\", \"rb\") as file:\n",
    "    trdata = pickle.load(file)\n",
    "len(trdata['imagesData'])"
   ]
  },
  {
   "cell_type": "code",
   "execution_count": 22,
   "metadata": {},
   "outputs": [],
   "source": [
    "os.chdir(\"validation_data\")"
   ]
  },
  {
   "cell_type": "code",
   "execution_count": 23,
   "metadata": {},
   "outputs": [
    {
     "data": {
      "text/plain": [
       "'C:\\\\Users\\\\Data\\\\Desktop\\\\Deep Learning\\\\validation_data'"
      ]
     },
     "execution_count": 23,
     "metadata": {},
     "output_type": "execute_result"
    }
   ],
   "source": [
    "path = os.getcwd()\n",
    "path"
   ]
  },
  {
   "cell_type": "code",
   "execution_count": 24,
   "metadata": {},
   "outputs": [
    {
     "data": {
      "text/plain": [
       "<matplotlib.image.AxesImage at 0x24b69d9de08>"
      ]
     },
     "execution_count": 24,
     "metadata": {},
     "output_type": "execute_result"
    },
    {
     "data": {
      "image/png": "[encoded data removed]",
      "text/plain": [
       "<Figure size 432x288 with 1 Axes>"
      ]
     },
     "metadata": {
      "needs_background": "light"
     },
     "output_type": "display_data"
    }
   ],
   "source": [
    "v = []\n",
    "for imageName in X_validation_images[\"image_id\"]:\n",
    "    path = imageName + \".jpg\"\n",
    "    img = Image.open(path)\n",
    "    height, width = img.size\n",
    "    img = img.resize((32, 32)) # This will transform the image into 32 * 32 pixel\n",
    "    img_data = np.asarray(img)\n",
    "    v.append(img_data)\n",
    "\n",
    "plt.imshow(v[1])"
   ]
  },
  {
   "cell_type": "code",
   "execution_count": 25,
   "metadata": {},
   "outputs": [
    {
     "data": {
      "text/plain": [
       "725"
      ]
     },
     "execution_count": 25,
     "metadata": {},
     "output_type": "execute_result"
    }
   ],
   "source": [
    "len(v)"
   ]
  },
  {
   "cell_type": "code",
   "execution_count": 26,
   "metadata": {},
   "outputs": [],
   "source": [
    "train_val_labels = []\n",
    "y_val_test = y_validation_labels[\"dx\"].values\n",
    "\n",
    "for label in y_val_test:\n",
    "    if(label == 'mel'):\n",
    "        train_val_labels.append(1)\n",
    "    elif(label == 'vasc'):\n",
    "        train_val_labels.append(2)\n",
    "    elif(label == 'bkl'):\n",
    "        train_val_labels.append(4)\n",
    "    else:\n",
    "        train_val_labels.append(3)\n",
    "        \n",
    "y_validation_final = np.array(train_val_labels, dtype=\"uint8\")"
   ]
  },
  {
   "cell_type": "code",
   "execution_count": 27,
   "metadata": {},
   "outputs": [
    {
     "data": {
      "text/plain": [
       "725"
      ]
     },
     "execution_count": 27,
     "metadata": {},
     "output_type": "execute_result"
    }
   ],
   "source": [
    "len(y_validation_final)"
   ]
  },
  {
   "cell_type": "code",
   "execution_count": 28,
   "metadata": {},
   "outputs": [],
   "source": [
    "validationData = {\"imagesData\": v, \"labels\": y_validation_final}"
   ]
  },
  {
   "cell_type": "code",
   "execution_count": 29,
   "metadata": {},
   "outputs": [
    {
     "data": {
      "text/plain": [
       "'C:\\\\Users\\\\Data\\\\Desktop\\\\Deep Learning'"
      ]
     },
     "execution_count": 29,
     "metadata": {},
     "output_type": "execute_result"
    }
   ],
   "source": [
    "os.chdir(\"../\")\n",
    "os.getcwd()"
   ]
  },
  {
   "cell_type": "code",
   "execution_count": 30,
   "metadata": {},
   "outputs": [
    {
     "name": "stdout",
     "output_type": "stream",
     "text": [
      "Done writting the file contents.\n"
     ]
    }
   ],
   "source": [
    "with open(\"val32.pkl\", \"wb\") as file:\n",
    "    pickle.dump(validationData, file)\n",
    "print(\"Done writting the file contents.\")"
   ]
  }
 ],
 "metadata": {
  "kernelspec": {
   "display_name": "Python 3",
   "language": "python",
   "name": "python3"
  },
  "language_info": {
   "codemirror_mode": {
    "name": "ipython",
    "version": 3
   },
   "file_extension": ".py",
   "mimetype": "text/x-python",
   "name": "python",
   "nbconvert_exporter": "python",
   "pygments_lexer": "ipython3",
   "version": "3.7.6"
  }
 },
 "nbformat": 4,
 "nbformat_minor": 2
}
